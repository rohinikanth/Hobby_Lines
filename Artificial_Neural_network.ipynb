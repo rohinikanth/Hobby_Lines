{
  "nbformat": 4,
  "nbformat_minor": 0,
  "metadata": {
    "colab": {
      "provenance": []
    },
    "kernelspec": {
      "name": "python3",
      "display_name": "Python 3"
    },
    "language_info": {
      "name": "python"
    }
  },
  "cells": [
    {
      "cell_type": "markdown",
      "source": [
        "Image\n",
        "\n",
        "**Artificial Neural Networks - Forward Propagation**"
      ],
      "metadata": {
        "id": "rv88gFmlCGGZ"
      }
    },
    {
      "cell_type": "code",
      "execution_count": null,
      "metadata": {
        "colab": {
          "base_uri": "https://localhost:8080/"
        },
        "collapsed": true,
        "id": "oiW3VXrg1CiI",
        "outputId": "efe84527-3b8f-4fed-95ed-8f68b62eeb23"
      },
      "outputs": [
        {
          "output_type": "stream",
          "name": "stdout",
          "text": [
            "Requirement already satisfied: numpy==1.26.4 in /usr/local/lib/python3.10/dist-packages (1.26.4)\n"
          ]
        }
      ],
      "source": [
        "!pip install numpy==1.26.4"
      ]
    },
    {
      "cell_type": "code",
      "source": [
        "from IPython.display import Image\n",
        "Image(url='http://cocl.us/neural_network_example', width=600)\n"
      ],
      "metadata": {
        "colab": {
          "base_uri": "https://localhost:8080/",
          "height": 338
        },
        "id": "IUO-lA9skdvp",
        "outputId": "224f9007-9628-4078-dad2-4ec7f65f576e"
      },
      "execution_count": null,
      "outputs": [
        {
          "output_type": "execute_result",
          "data": {
            "text/html": [
              "<img src=\"http://cocl.us/neural_network_example\" width=\"600\"/>"
            ],
            "text/plain": [
              "<IPython.core.display.Image object>"
            ]
          },
          "metadata": {},
          "execution_count": 2
        }
      ]
    },
    {
      "cell_type": "code",
      "source": [
        "#initialize weights and biases\n",
        "import numpy as np\n",
        "\n",
        "weights = np.around(np.random.uniform(size=10),decimals=3)\n",
        "biases = np.around(np.random.uniform(size=5),decimals=2)"
      ],
      "metadata": {
        "id": "IRLxBKky1pQ6"
      },
      "execution_count": null,
      "outputs": []
    },
    {
      "cell_type": "code",
      "source": [
        "print(weights,'\\n',biases)"
      ],
      "metadata": {
        "colab": {
          "base_uri": "https://localhost:8080/"
        },
        "id": "1w39Y-eN3fyQ",
        "outputId": "c26aae01-193b-48d0-bdc3-fe61b19ca786"
      },
      "execution_count": null,
      "outputs": [
        {
          "output_type": "stream",
          "name": "stdout",
          "text": [
            "[0.306 0.934 0.311 0.825 0.321 0.426 0.128 0.186 0.938 0.96 ] \n",
            " [0.92 0.46 0.82 0.11 0.86]\n"
          ]
        }
      ]
    },
    {
      "cell_type": "code",
      "source": [
        "#Outputs for given inputs\n",
        "x1 =0.5 #input1\n",
        "x2 = 0.85 #input2\n",
        "print('x1 is {} and x2 is {}'.format(x1,x2))"
      ],
      "metadata": {
        "colab": {
          "base_uri": "https://localhost:8080/"
        },
        "id": "ZRE-SCTn4juJ",
        "outputId": "6ce3c6a6-697f-4006-d43a-7d3969589112"
      },
      "execution_count": null,
      "outputs": [
        {
          "output_type": "stream",
          "name": "stdout",
          "text": [
            "x1 is 0.5 and x2 is 0.85\n"
          ]
        }
      ]
    },
    {
      "cell_type": "code",
      "source": [
        "z11 = x1*weights[0] + x2*weights[1] + biases[0]\n",
        "print('The weighted sum of inputs at first node in hidden layer is {}' .format(np.around(z11,decimals=4)))\n",
        "z12 = x1*weights[2] + x2*weights[3] +biases[1]\n",
        "print('The weighte sum of inputs at second node in hidden layer is {}' .format(np.around(z12,decimals=4)))"
      ],
      "metadata": {
        "id": "FK9XPHAU5J57",
        "colab": {
          "base_uri": "https://localhost:8080/"
        },
        "outputId": "dec3ce74-66e6-42a3-c07b-93454e4fde01"
      },
      "execution_count": null,
      "outputs": [
        {
          "output_type": "stream",
          "name": "stdout",
          "text": [
            "The weighted sum of inputs at first node in hidden layer is 1.8669\n",
            "The weighte sum of inputs at second node in hidden layer is 1.3167\n"
          ]
        }
      ]
    },
    {
      "cell_type": "code",
      "source": [
        "#Using sigmoid activation function\n",
        "a11 = 1.0 / (1.0 + np.exp(-z11))\n",
        "print('The activation of first node in hidden layer {}' .format(np.around(a11,decimals=4)))\n",
        "a12 = 1.0 / (1.0 + np.exp(-z12))\n",
        "print('The activation of second node in hidden layer {}'.format(np.around(a12,decimals=4)))"
      ],
      "metadata": {
        "colab": {
          "base_uri": "https://localhost:8080/"
        },
        "id": "aXWrUK5Nlz3w",
        "outputId": "092dc362-5cec-4656-de60-28712000dd8d"
      },
      "execution_count": null,
      "outputs": [
        {
          "output_type": "stream",
          "name": "stdout",
          "text": [
            "The activation of first node in hidden layer 0.8661\n",
            "The activation of second node in hidden layer 0.7886\n"
          ]
        }
      ]
    },
    {
      "cell_type": "code",
      "source": [
        "#The weighted sum of these inputs to the node in the output layer\n",
        "z2  = a11*weights[4] + a12*weights[5] + biases[2]\n",
        "print('The weighted sum of inputs at node in output layer is {}' .format(np.around(z2,decimals=4)))\n"
      ],
      "metadata": {
        "colab": {
          "base_uri": "https://localhost:8080/"
        },
        "id": "MdRg9rrEnYz1",
        "outputId": "dfd11cea-0291-4e56-94a1-b84d8f708fbe"
      },
      "execution_count": null,
      "outputs": [
        {
          "output_type": "stream",
          "name": "stdout",
          "text": [
            "The weighted sum of inputs at node in output layer is 1.434\n"
          ]
        }
      ]
    },
    {
      "cell_type": "code",
      "source": [
        "# The output of the network as the activation of the node in the output layer.\n",
        "a2 = 1.0 / (1.0 + np.exp(-z2))\n",
        "print('The output of the network for x1 = 0.5 and x2 = 0.85 is {}'.format(np.around(a2, decimals=4)))"
      ],
      "metadata": {
        "colab": {
          "base_uri": "https://localhost:8080/"
        },
        "id": "sOdFeTUmoDuc",
        "outputId": "79a2fbaa-0c2e-4919-90fb-987d6f404b4f"
      },
      "execution_count": null,
      "outputs": [
        {
          "output_type": "stream",
          "name": "stdout",
          "text": [
            "The output of the network for x1 = 0.5 and x2 = 0.85 is 0.8075\n"
          ]
        }
      ]
    },
    {
      "cell_type": "code",
      "source": [
        "                                                #Building neural network\n",
        "#Define structure of network\n",
        "n_inputs =2\n",
        "n_hidden_layers =2\n",
        "n_nodes_in_hidden_layer = [2,2]\n",
        "n_nodes_in_outputs =1"
      ],
      "metadata": {
        "id": "o85CZw6dCE3V"
      },
      "execution_count": null,
      "outputs": []
    },
    {
      "cell_type": "code",
      "source": [
        "#Use Numpy to initialize weights and biases to random values\n",
        "import numpy as np\n",
        "from random import seed\n",
        "\n",
        "def create_network( n_inputs , n_hidden_layers, n_nodes_in_hidden_layer , n_nodes_in_outputs ):\n",
        "\n",
        "  Network = {}\n",
        "  m = n_inputs #number of nodes in the previous layers\n",
        "  #Assign names to layers\n",
        "  for layer in range(n_hidden_layers +1):\n",
        "    if layer == n_hidden_layers:\n",
        "      layer_name = 'Output_layer'\n",
        "      n_nodes = n_nodes_in_outputs\n",
        "    else:\n",
        "      layer_name = 'Layer{}'.format(layer+1)\n",
        "      n_nodes = n_nodes_in_hidden_layer[layer]\n",
        "\n",
        "  #Initialize weights and biase to each node in current layer\n",
        "    Network[layer_name] = {}\n",
        "    for nodes in range(n_nodes):\n",
        "      node_name = 'Node{}'.format(nodes+1)\n",
        "      Network[layer_name][node_name] = {\n",
        "          'weights' : np.around( np.random.uniform(size = m),decimals =2 ),\n",
        "          'bias' : np.around(np.random.uniform(size = 1), decimals = 2)\n",
        "      }\n",
        "    m = n_nodes\n",
        "  #print(Network)\n",
        "  return Network\n",
        "\n"
      ],
      "metadata": {
        "id": "3jUesJMxCE0j"
      },
      "execution_count": null,
      "outputs": []
    },
    {
      "cell_type": "markdown",
      "source": [
        "'Network' is an empty dictionary meant to hold the entire neural network's structure.\n",
        "Each key in Network corresponds to a layer_name.\n",
        "\n",
        "Layers and nodes in the network are added to this dictionary as nested dictionaries.\n",
        "\n",
        "The first dictionary Network contains keys corresponding to layers.\n",
        "\n",
        "The second dictionary (Network[layer_name]) contains keys corresponding to nodes within a layer.\n",
        "\n",
        "The third dictionary (Network[layer_name][node_name]) contains specific data (weights and bias) for a particular node in a layer.\n",
        "\n"
      ],
      "metadata": {
        "id": "O8YbApUxDIsQ"
      }
    },
    {
      "cell_type": "code",
      "source": [
        "small_network = create_network(5,3,[3,2,3],1)"
      ],
      "metadata": {
        "id": "PyyLU1voCEtu",
        "collapsed": true
      },
      "execution_count": null,
      "outputs": []
    },
    {
      "cell_type": "code",
      "source": [
        "#Compute weighted sum at each nodes\n",
        "def weighted_sum(inputs,weights,bias):\n",
        "  return np.around(np.sum(weights*inputs) + bias ,decimals = 2 )"
      ],
      "metadata": {
        "id": "iG5pPoef_D9t"
      },
      "execution_count": null,
      "outputs": []
    },
    {
      "cell_type": "code",
      "source": [
        "#seed : initialize the random number generator, ensuring that the sequence of random numbers generated is reproducible\n",
        "import numpy as np\n",
        "from random import seed\n",
        "\n",
        "np.random.seed(12)\n",
        "inputs = np.around(np.random.uniform(size=5),decimals=2)\n",
        "print('The inputs of th network are {}'.format(inputs))\n"
      ],
      "metadata": {
        "colab": {
          "base_uri": "https://localhost:8080/"
        },
        "id": "kVeXuaDNBN-3",
        "outputId": "9f9a0ae7-4a17-4090-dd9a-15147091ac2d"
      },
      "execution_count": null,
      "outputs": [
        {
          "output_type": "stream",
          "name": "stdout",
          "text": [
            "The inputs of th network are [0.15 0.74 0.26 0.53 0.01]\n"
          ]
        }
      ]
    },
    {
      "cell_type": "code",
      "source": [
        "node_weights = small_network['Layer1']['Node1']['weights']\n",
        "node_bias = small_network['Layer1']['Node1']['bias']\n",
        "\n",
        "ws = weighted_sum(inputs, node_weights, node_bias)\n",
        "print('The weighted sum at the first node in the hidden layer is {}'.format(np.around(ws[0], decimals=2)))"
      ],
      "metadata": {
        "id": "4eBbkFUVCc1J",
        "colab": {
          "base_uri": "https://localhost:8080/"
        },
        "outputId": "0ad4b14a-86f0-4b58-f0d4-633107a58e65"
      },
      "execution_count": null,
      "outputs": [
        {
          "output_type": "stream",
          "name": "stdout",
          "text": [
            "The weighted sum at the first node in the hidden layer is 1.22\n"
          ]
        }
      ]
    },
    {
      "cell_type": "code",
      "source": [
        "#Compute node activation (the sigmoid function is used as the activation function here)\n",
        "def activation(ws):\n",
        "  return 1.0 / (1.0 + np.exp(-ws))"
      ],
      "metadata": {
        "id": "Wk8U0iP8DASH"
      },
      "execution_count": null,
      "outputs": []
    },
    {
      "cell_type": "code",
      "source": [
        "#compute the output of the first node in the first hidden layer.\n",
        "\n",
        "Node_output = activation(weighted_sum(inputs, node_weights, node_bias))\n",
        "print('The output of first node in first hidden layer is {}'.format(np.around(Node_output[0], decimals =2)))"
      ],
      "metadata": {
        "colab": {
          "base_uri": "https://localhost:8080/"
        },
        "id": "LoGtt7khHTmd",
        "outputId": "34f656b1-e730-4658-b0bb-504c33c3e20c"
      },
      "execution_count": null,
      "outputs": [
        {
          "output_type": "stream",
          "name": "stdout",
          "text": [
            "The output of first node in first hidden layer is 0.77\n"
          ]
        }
      ]
    },
    {
      "cell_type": "markdown",
      "source": [
        "FORWARD PROPAGATION\n",
        "1. Start with the input layer as the input to the first hidden layer.\n",
        "2. Compute the weighted sum at the nodes of the current layer.\n",
        "3. Compute the output of the nodes of the current layer.\n",
        "4. Set the output of the current layer to be the input to the next layer.\n",
        "5. Move to the next layer in the network.\n",
        "5. Repeat steps 2 - 4 until we compute the output of the output layer.\n"
      ],
      "metadata": {
        "id": "d_3OkbvAIsNG"
      }
    },
    {
      "cell_type": "code",
      "source": [
        "#Sample\n",
        "'''Network{\n",
        "    \"Layer1\": {\n",
        "        \"Node1\": {\n",
        "            \"weights\": [0.56, 0.78, 0.12],  # Example values\n",
        "            \"bias\": [0.89]  # Example value\n",
        "        }\n",
        "    }\n",
        "}'''\n"
      ],
      "metadata": {
        "id": "xQo4L5G-K35v",
        "colab": {
          "base_uri": "https://localhost:8080/",
          "height": 53
        },
        "outputId": "44c54135-b406-43df-87a2-d1ffbf6abb9e"
      },
      "execution_count": null,
      "outputs": [
        {
          "output_type": "execute_result",
          "data": {
            "text/plain": [
              "'Network{\\n    \"Layer1\": {\\n        \"Node1\": {\\n            \"weights\": [0.56, 0.78, 0.12],  # Example values\\n            \"bias\": [0.89]  # Example value\\n        }\\n    }\\n}'"
            ],
            "application/vnd.google.colaboratory.intrinsic+json": {
              "type": "string"
            }
          },
          "metadata": {},
          "execution_count": 4
        }
      ]
    },
    {
      "cell_type": "code",
      "source": [
        "def forward_propagation(Network , inputs):\n",
        "  input_layer = list(inputs)\n",
        "\n",
        "  for layers in Network:\n",
        "    layer_data = Network[layers]\n",
        "    layer_out = []\n",
        "    for layer_nodes in layer_data:\n",
        "      node_data = layer_data[layer_nodes]\n",
        "\n",
        "      node_out = activation(weighted_sum( input_layer,node_data['weights'], node_data['bias'] ))\n",
        "      layer_out.append(np.around(node_out[0], decimals =2))\n",
        "\n",
        "    if layers != 'Output_layer':\n",
        "      layer_no = layers[5:]\n",
        "      print('The output of the nodes in hidden layer number {} is {}'.format(layer_no, layer_out))\n",
        "    input_layer = layer_out\n",
        "\n",
        "  final_output = layer_out\n",
        "  return final_output\n"
      ],
      "metadata": {
        "id": "V2KBpJ4uILZ5"
      },
      "execution_count": null,
      "outputs": []
    },
    {
      "cell_type": "code",
      "source": [
        "Network1 = forward_propagation(small_network, inputs)\n",
        "print('The predicted value by the network for the given input is {}'.format(np.around(Network1[0], decimals=4)))"
      ],
      "metadata": {
        "colab": {
          "base_uri": "https://localhost:8080/"
        },
        "id": "7HfVsSE_SZKe",
        "outputId": "950768b6-d7a3-4062-825d-89fbc92ad2eb"
      },
      "execution_count": null,
      "outputs": [
        {
          "output_type": "stream",
          "name": "stdout",
          "text": [
            "The output of the nodes in hidden layer number 1 is [0.77, 0.75, 0.68]\n",
            "The output of the nodes in hidden layer number 2 is [0.75, 0.82]\n",
            "The output of the nodes in hidden layer number 3 is [0.84, 0.78, 0.86]\n",
            "The predicted value by the network for the given input is 0.77\n"
          ]
        }
      ]
    }
  ]
}